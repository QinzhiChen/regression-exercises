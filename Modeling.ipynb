{
 "cells": [
  {
   "cell_type": "code",
   "execution_count": 10,
   "id": "8c90e8cb",
   "metadata": {},
   "outputs": [],
   "source": [
    "import warnings\n",
    "warnings.filterwarnings(\"ignore\")\n",
    "from sklearn.model_selection import train_test_split\n",
    "from sklearn.impute import SimpleImputer\n",
    "from sklearn.preprocessing import MinMaxScaler, StandardScaler, RobustScaler, QuantileTransformer\n",
    "from env import user, password, host\n",
    "import pandas as pd\n",
    "import matplotlib.pyplot as plt\n",
    "import seaborn as sns\n",
    "import numpy as np\n",
    "import env\n",
    "import os\n",
    "import csv\n",
    "import wrangle_zillow\n",
    "import prepare\n",
    "from sklearn.metrics import mean_squared_error\n",
    "from sklearn.metrics import r2_score\n",
    "from sklearn.feature_selection import SelectKBest, f_regression\n",
    "from sklearn.linear_model import LinearRegression, TweedieRegressor, LassoLars\n",
    "from sklearn.metrics import mean_squared_error, explained_variance_score\n",
    "from sklearn.preprocessing import PolynomialFeatures"
   ]
  },
  {
   "cell_type": "code",
   "execution_count": 2,
   "id": "4a1b8374",
   "metadata": {},
   "outputs": [
    {
     "data": {
      "image/png": "[encoded data removed]",
      "text/plain": [
       "<Figure size 1152x216 with 6 Axes>"
      ]
     },
     "metadata": {
      "needs_background": "light"
     },
     "output_type": "display_data"
    }
   ],
   "source": [
    "# load zillow data\n",
    "zillow_train,zillow_validate,zillow_test=wrangle_zillow.wrangle_zillow(1.5)"
   ]
  },
  {
   "cell_type": "code",
   "execution_count": 3,
   "id": "413a1d2a",
   "metadata": {},
   "outputs": [
    {
     "name": "stdout",
     "output_type": "stream",
     "text": [
      "<class 'pandas.core.frame.DataFrame'>\n",
      "Int64Index: 24257 entries, 9653 to 47564\n",
      "Data columns (total 12 columns):\n",
      " #   Column           Non-Null Count  Dtype  \n",
      "---  ------           --------------  -----  \n",
      " 0   bedroom          24257 non-null  float64\n",
      " 1   bathroom         24257 non-null  float64\n",
      " 2   sqtft            24257 non-null  float64\n",
      " 3   taxvalue         24257 non-null  float64\n",
      " 4   yearbuilt        24249 non-null  object \n",
      " 5   taxamount        24257 non-null  float64\n",
      " 6   fips             24257 non-null  object \n",
      " 7   lots             24257 non-null  float64\n",
      " 8   zipcode          24247 non-null  object \n",
      " 9   assessmentyear   24257 non-null  object \n",
      " 10  transactiondate  24257 non-null  object \n",
      " 11  taxrate          24257 non-null  object \n",
      "dtypes: float64(6), object(6)\n",
      "memory usage: 2.4+ MB\n"
     ]
    }
   ],
   "source": [
    "zillow_train.info()"
   ]
  },
  {
   "cell_type": "code",
   "execution_count": 4,
   "id": "5e48af7c",
   "metadata": {},
   "outputs": [
    {
     "data": {
      "text/html": [
       "<div>\n",
       "<style scoped>\n",
       "    .dataframe tbody tr th:only-of-type {\n",
       "        vertical-align: middle;\n",
       "    }\n",
       "\n",
       "    .dataframe tbody tr th {\n",
       "        vertical-align: top;\n",
       "    }\n",
       "\n",
       "    .dataframe thead th {\n",
       "        text-align: right;\n",
       "    }\n",
       "</style>\n",
       "<table border=\"1\" class=\"dataframe\">\n",
       "  <thead>\n",
       "    <tr style=\"text-align: right;\">\n",
       "      <th></th>\n",
       "      <th>count</th>\n",
       "      <th>mean</th>\n",
       "      <th>std</th>\n",
       "      <th>min</th>\n",
       "      <th>25%</th>\n",
       "      <th>50%</th>\n",
       "      <th>75%</th>\n",
       "      <th>max</th>\n",
       "    </tr>\n",
       "  </thead>\n",
       "  <tbody>\n",
       "    <tr>\n",
       "      <th>bedroom</th>\n",
       "      <td>24257.0</td>\n",
       "      <td>3.198829</td>\n",
       "      <td>0.778007</td>\n",
       "      <td>2.00</td>\n",
       "      <td>3.00</td>\n",
       "      <td>3.00</td>\n",
       "      <td>4.00</td>\n",
       "      <td>5.00</td>\n",
       "    </tr>\n",
       "    <tr>\n",
       "      <th>bathroom</th>\n",
       "      <td>24257.0</td>\n",
       "      <td>2.022055</td>\n",
       "      <td>0.697943</td>\n",
       "      <td>1.00</td>\n",
       "      <td>2.00</td>\n",
       "      <td>2.00</td>\n",
       "      <td>2.50</td>\n",
       "      <td>4.00</td>\n",
       "    </tr>\n",
       "    <tr>\n",
       "      <th>sqtft</th>\n",
       "      <td>24257.0</td>\n",
       "      <td>1615.423754</td>\n",
       "      <td>541.864106</td>\n",
       "      <td>440.00</td>\n",
       "      <td>1217.00</td>\n",
       "      <td>1517.00</td>\n",
       "      <td>1928.00</td>\n",
       "      <td>3424.00</td>\n",
       "    </tr>\n",
       "    <tr>\n",
       "      <th>taxvalue</th>\n",
       "      <td>24257.0</td>\n",
       "      <td>320354.428825</td>\n",
       "      <td>195587.427420</td>\n",
       "      <td>9762.00</td>\n",
       "      <td>168395.00</td>\n",
       "      <td>290868.00</td>\n",
       "      <td>442170.00</td>\n",
       "      <td>947794.00</td>\n",
       "    </tr>\n",
       "    <tr>\n",
       "      <th>taxamount</th>\n",
       "      <td>24257.0</td>\n",
       "      <td>3975.308821</td>\n",
       "      <td>2198.399383</td>\n",
       "      <td>49.18</td>\n",
       "      <td>2310.44</td>\n",
       "      <td>3675.27</td>\n",
       "      <td>5362.48</td>\n",
       "      <td>10396.68</td>\n",
       "    </tr>\n",
       "    <tr>\n",
       "      <th>lots</th>\n",
       "      <td>24257.0</td>\n",
       "      <td>6647.333223</td>\n",
       "      <td>1796.088127</td>\n",
       "      <td>1890.00</td>\n",
       "      <td>5507.00</td>\n",
       "      <td>6476.00</td>\n",
       "      <td>7577.00</td>\n",
       "      <td>11823.00</td>\n",
       "    </tr>\n",
       "  </tbody>\n",
       "</table>\n",
       "</div>"
      ],
      "text/plain": [
       "             count           mean            std      min        25%  \\\n",
       "bedroom    24257.0       3.198829       0.778007     2.00       3.00   \n",
       "bathroom   24257.0       2.022055       0.697943     1.00       2.00   \n",
       "sqtft      24257.0    1615.423754     541.864106   440.00    1217.00   \n",
       "taxvalue   24257.0  320354.428825  195587.427420  9762.00  168395.00   \n",
       "taxamount  24257.0    3975.308821    2198.399383    49.18    2310.44   \n",
       "lots       24257.0    6647.333223    1796.088127  1890.00    5507.00   \n",
       "\n",
       "                 50%        75%        max  \n",
       "bedroom         3.00       4.00       5.00  \n",
       "bathroom        2.00       2.50       4.00  \n",
       "sqtft        1517.00    1928.00    3424.00  \n",
       "taxvalue   290868.00  442170.00  947794.00  \n",
       "taxamount    3675.27    5362.48   10396.68  \n",
       "lots         6476.00    7577.00   11823.00  "
      ]
     },
     "execution_count": 4,
     "metadata": {},
     "output_type": "execute_result"
    }
   ],
   "source": [
    "zillow_train.describe().T"
   ]
  },
  {
   "cell_type": "code",
   "execution_count": 5,
   "id": "9ce93b5b",
   "metadata": {},
   "outputs": [],
   "source": [
    "# the target will be taxamount"
   ]
  },
  {
   "cell_type": "code",
   "execution_count": 15,
   "id": "fbccb6da",
   "metadata": {},
   "outputs": [],
   "source": [
    "x_train, y_train = zillow_train.select_dtypes('float').drop(columns='taxamount'),zillow_train.taxamount\n",
    "x_validate, y_validate = zillow_validate.select_dtypes('float').drop(columns='taxamount'),zillow_validate.taxamount\n",
    "x_train, y_train = zillow_test.select_dtypes('float').drop(columns='taxamount'),zillow_test.taxamount"
   ]
  },
  {
   "cell_type": "code",
   "execution_count": 16,
   "id": "4006349f",
   "metadata": {},
   "outputs": [
    {
     "data": {
      "text/html": [
       "<div>\n",
       "<style scoped>\n",
       "    .dataframe tbody tr th:only-of-type {\n",
       "        vertical-align: middle;\n",
       "    }\n",
       "\n",
       "    .dataframe tbody tr th {\n",
       "        vertical-align: top;\n",
       "    }\n",
       "\n",
       "    .dataframe thead th {\n",
       "        text-align: right;\n",
       "    }\n",
       "</style>\n",
       "<table border=\"1\" class=\"dataframe\">\n",
       "  <thead>\n",
       "    <tr style=\"text-align: right;\">\n",
       "      <th></th>\n",
       "      <th>bedroom</th>\n",
       "      <th>bathroom</th>\n",
       "      <th>sqtft</th>\n",
       "      <th>taxvalue</th>\n",
       "      <th>lots</th>\n",
       "    </tr>\n",
       "  </thead>\n",
       "  <tbody>\n",
       "    <tr>\n",
       "      <th>38617</th>\n",
       "      <td>4.0</td>\n",
       "      <td>1.0</td>\n",
       "      <td>1184.0</td>\n",
       "      <td>229113.0</td>\n",
       "      <td>7250.0</td>\n",
       "    </tr>\n",
       "    <tr>\n",
       "      <th>3292</th>\n",
       "      <td>3.0</td>\n",
       "      <td>2.0</td>\n",
       "      <td>1828.0</td>\n",
       "      <td>206998.0</td>\n",
       "      <td>7763.0</td>\n",
       "    </tr>\n",
       "    <tr>\n",
       "      <th>487</th>\n",
       "      <td>2.0</td>\n",
       "      <td>1.0</td>\n",
       "      <td>836.0</td>\n",
       "      <td>233758.0</td>\n",
       "      <td>5999.0</td>\n",
       "    </tr>\n",
       "    <tr>\n",
       "      <th>52187</th>\n",
       "      <td>4.0</td>\n",
       "      <td>2.0</td>\n",
       "      <td>1748.0</td>\n",
       "      <td>140550.0</td>\n",
       "      <td>8588.0</td>\n",
       "    </tr>\n",
       "    <tr>\n",
       "      <th>9147</th>\n",
       "      <td>2.0</td>\n",
       "      <td>1.0</td>\n",
       "      <td>935.0</td>\n",
       "      <td>747085.0</td>\n",
       "      <td>7770.0</td>\n",
       "    </tr>\n",
       "    <tr>\n",
       "      <th>...</th>\n",
       "      <td>...</td>\n",
       "      <td>...</td>\n",
       "      <td>...</td>\n",
       "      <td>...</td>\n",
       "      <td>...</td>\n",
       "    </tr>\n",
       "    <tr>\n",
       "      <th>48344</th>\n",
       "      <td>3.0</td>\n",
       "      <td>2.0</td>\n",
       "      <td>1680.0</td>\n",
       "      <td>97086.0</td>\n",
       "      <td>7484.0</td>\n",
       "    </tr>\n",
       "    <tr>\n",
       "      <th>11810</th>\n",
       "      <td>3.0</td>\n",
       "      <td>2.0</td>\n",
       "      <td>1412.0</td>\n",
       "      <td>95240.0</td>\n",
       "      <td>5000.0</td>\n",
       "    </tr>\n",
       "    <tr>\n",
       "      <th>4353</th>\n",
       "      <td>2.0</td>\n",
       "      <td>1.0</td>\n",
       "      <td>1121.0</td>\n",
       "      <td>612522.0</td>\n",
       "      <td>6998.0</td>\n",
       "    </tr>\n",
       "    <tr>\n",
       "      <th>36081</th>\n",
       "      <td>4.0</td>\n",
       "      <td>2.0</td>\n",
       "      <td>2051.0</td>\n",
       "      <td>209000.0</td>\n",
       "      <td>6792.0</td>\n",
       "    </tr>\n",
       "    <tr>\n",
       "      <th>7052</th>\n",
       "      <td>2.0</td>\n",
       "      <td>1.0</td>\n",
       "      <td>920.0</td>\n",
       "      <td>443825.0</td>\n",
       "      <td>4807.0</td>\n",
       "    </tr>\n",
       "  </tbody>\n",
       "</table>\n",
       "<p>8664 rows × 5 columns</p>\n",
       "</div>"
      ],
      "text/plain": [
       "       bedroom  bathroom   sqtft  taxvalue    lots\n",
       "38617      4.0       1.0  1184.0  229113.0  7250.0\n",
       "3292       3.0       2.0  1828.0  206998.0  7763.0\n",
       "487        2.0       1.0   836.0  233758.0  5999.0\n",
       "52187      4.0       2.0  1748.0  140550.0  8588.0\n",
       "9147       2.0       1.0   935.0  747085.0  7770.0\n",
       "...        ...       ...     ...       ...     ...\n",
       "48344      3.0       2.0  1680.0   97086.0  7484.0\n",
       "11810      3.0       2.0  1412.0   95240.0  5000.0\n",
       "4353       2.0       1.0  1121.0  612522.0  6998.0\n",
       "36081      4.0       2.0  2051.0  209000.0  6792.0\n",
       "7052       2.0       1.0   920.0  443825.0  4807.0\n",
       "\n",
       "[8664 rows x 5 columns]"
      ]
     },
     "execution_count": 16,
     "metadata": {},
     "output_type": "execute_result"
    }
   ],
   "source": [
    "x_train"
   ]
  },
  {
   "cell_type": "code",
   "execution_count": 23,
   "id": "d0e9c23b",
   "metadata": {},
   "outputs": [
    {
     "name": "stdout",
     "output_type": "stream",
     "text": [
      "RMSE using Mean\n",
      "Train/In-Sample:  2181.59 \n",
      "Validate/Out-of-Sample:  2211.05\n",
      "RMSE using Median\n",
      "Train/In-Sample:  2202.84 \n",
      "Validate/Out-of-Sample:  2233.27\n"
     ]
    }
   ],
   "source": [
    "# We need y_train and y_validate to be dataframes to append the new columns with predicted values. \n",
    "y_train = pd.DataFrame(y_train)\n",
    "y_validate = pd.DataFrame(y_validate)\n",
    "\n",
    "# predict mean\n",
    "y_train['taxamount_avg'] = y_train['taxamount'].mean()\n",
    "y_validate['taxamount_avg'] = y_validate['taxamount'].mean()\n",
    "\n",
    "# predict median\n",
    "y_train['taxamount_med'] = y_train['taxamount'].median()\n",
    "y_validate['taxamount_med'] = y_validate['taxamount'].median()\n",
    "\n",
    "# RMSE of mean\n",
    "rmse_train = mean_squared_error(y_train.taxamount, y_train.taxamount_avg)**(1/2)\n",
    "rmse_validate = mean_squared_error(y_validate.taxamount, y_validate.taxamount_avg)**(1/2)\n",
    "\n",
    "print(\"RMSE using Mean\\nTrain/In-Sample: \", round(rmse_train, 2), \n",
    "      \"\\nValidate/Out-of-Sample: \", round(rmse_validate, 2))\n",
    "\n",
    "# RMSE of median\n",
    "rmse_train = mean_squared_error(y_train.taxamount, y_train.taxamount_med)**(1/2)\n",
    "rmse_validate = mean_squared_error(y_validate.taxamount, y_validate.taxamount_med)**(1/2)\n",
    "\n",
    "print(\"RMSE using Median\\nTrain/In-Sample: \", round(rmse_train, 2), \n",
    "      \"\\nValidate/Out-of-Sample: \", round(rmse_validate, 2))\n",
    "\n"
   ]
  },
  {
   "cell_type": "code",
   "execution_count": 32,
   "id": "62d7aa85",
   "metadata": {},
   "outputs": [
    {
     "data": {
      "image/png": "[encoded data removed]",
      "text/plain": [
       "<Figure size 432x288 with 1 Axes>"
      ]
     },
     "metadata": {
      "needs_background": "light"
     },
     "output_type": "display_data"
    }
   ],
   "source": [
    "# plot to visualize actual vs predicted. \n",
    "plt.hist(y_train.taxamount, color='blue', alpha=.5, label=\"Actual Final Grades\")\n",
    "plt.hist(y_train.taxamount_avg, bins=1, color='red', alpha=.5, rwidth=10, label=\"Predicted taxamount - Mean\")\n",
    "plt.hist(y_train.taxamount_med, bins=1, color='orange', alpha=.5, rwidth=10, label=\"Predicted taxamount - Median\")\n",
    "plt.legend()\n",
    "plt.show()"
   ]
  },
  {
   "cell_type": "code",
   "execution_count": null,
   "id": "f959e575",
   "metadata": {},
   "outputs": [],
   "source": []
  }
 ],
 "metadata": {
  "kernelspec": {
   "display_name": "Python 3 (ipykernel)",
   "language": "python",
   "name": "python3"
  },
  "language_info": {
   "codemirror_mode": {
    "name": "ipython",
    "version": 3
   },
   "file_extension": ".py",
   "mimetype": "text/x-python",
   "name": "python",
   "nbconvert_exporter": "python",
   "pygments_lexer": "ipython3",
   "version": "3.9.12"
  }
 },
 "nbformat": 4,
 "nbformat_minor": 5
}
