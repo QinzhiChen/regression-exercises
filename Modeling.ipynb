{
 "cells": [
  {
   "cell_type": "code",
   "execution_count": 1,
   "id": "8c90e8cb",
   "metadata": {},
   "outputs": [],
   "source": [
    "import warnings\n",
    "warnings.filterwarnings(\"ignore\")\n",
    "from sklearn.model_selection import train_test_split\n",
    "from sklearn.impute import SimpleImputer\n",
    "from sklearn.preprocessing import MinMaxScaler, StandardScaler, RobustScaler, QuantileTransformer\n",
    "from env import user, password, host\n",
    "import pandas as pd\n",
    "import matplotlib.pyplot as plt\n",
    "import seaborn as sns\n",
    "import numpy as np\n",
    "import env\n",
    "import os\n",
    "import csv\n",
    "import wrangle_zillow\n",
    "import prepare\n",
    "from sklearn.metrics import mean_squared_error\n",
    "from sklearn.metrics import r2_score\n",
    "from sklearn.feature_selection import SelectKBest, f_regression\n",
    "from sklearn.linear_model import LinearRegression, TweedieRegressor, LassoLars\n",
    "from sklearn.metrics import mean_squared_error, explained_variance_score\n",
    "from sklearn.preprocessing import PolynomialFeatures"
   ]
  },
  {
   "cell_type": "code",
   "execution_count": 2,
   "id": "4a1b8374",
   "metadata": {},
   "outputs": [
    {
     "data": {
      "image/png": "[encoded data removed]",
      "text/plain": [
       "<Figure size 1152x216 with 6 Axes>"
      ]
     },
     "metadata": {
      "needs_background": "light"
     },
     "output_type": "display_data"
    }
   ],
   "source": [
    "# load zillow data\n",
    "zillow_train,zillow_validate,zillow_test=wrangle_zillow.wrangle_zillow(1.5)"
   ]
  },
  {
   "cell_type": "code",
   "execution_count": 3,
   "id": "413a1d2a",
   "metadata": {},
   "outputs": [
    {
     "name": "stdout",
     "output_type": "stream",
     "text": [
      "<class 'pandas.core.frame.DataFrame'>\n",
      "Int64Index: 24241 entries, 29999 to 13860\n",
      "Data columns (total 12 columns):\n",
      " #   Column           Non-Null Count  Dtype  \n",
      "---  ------           --------------  -----  \n",
      " 0   bedroom          24241 non-null  float64\n",
      " 1   bathroom         24241 non-null  float64\n",
      " 2   sqtft            24241 non-null  float64\n",
      " 3   taxvalue         24241 non-null  float64\n",
      " 4   yearbuilt        24241 non-null  object \n",
      " 5   taxamount        24241 non-null  float64\n",
      " 6   fips             24241 non-null  object \n",
      " 7   lots             24241 non-null  float64\n",
      " 8   zipcode          24241 non-null  object \n",
      " 9   assessmentyear   24241 non-null  object \n",
      " 10  transactiondate  24241 non-null  object \n",
      " 11  taxrate          24241 non-null  object \n",
      "dtypes: float64(6), object(6)\n",
      "memory usage: 2.4+ MB\n"
     ]
    }
   ],
   "source": [
    "zillow_train.info()"
   ]
  },
  {
   "cell_type": "code",
   "execution_count": 4,
   "id": "5e48af7c",
   "metadata": {},
   "outputs": [
    {
     "data": {
      "text/html": [
       "<div>\n",
       "<style scoped>\n",
       "    .dataframe tbody tr th:only-of-type {\n",
       "        vertical-align: middle;\n",
       "    }\n",
       "\n",
       "    .dataframe tbody tr th {\n",
       "        vertical-align: top;\n",
       "    }\n",
       "\n",
       "    .dataframe thead th {\n",
       "        text-align: right;\n",
       "    }\n",
       "</style>\n",
       "<table border=\"1\" class=\"dataframe\">\n",
       "  <thead>\n",
       "    <tr style=\"text-align: right;\">\n",
       "      <th></th>\n",
       "      <th>count</th>\n",
       "      <th>mean</th>\n",
       "      <th>std</th>\n",
       "      <th>min</th>\n",
       "      <th>25%</th>\n",
       "      <th>50%</th>\n",
       "      <th>75%</th>\n",
       "      <th>max</th>\n",
       "    </tr>\n",
       "  </thead>\n",
       "  <tbody>\n",
       "    <tr>\n",
       "      <th>bedroom</th>\n",
       "      <td>24241.0</td>\n",
       "      <td>3.197228</td>\n",
       "      <td>0.779588</td>\n",
       "      <td>2.00</td>\n",
       "      <td>3.00</td>\n",
       "      <td>3.00</td>\n",
       "      <td>4.00</td>\n",
       "      <td>5.00</td>\n",
       "    </tr>\n",
       "    <tr>\n",
       "      <th>bathroom</th>\n",
       "      <td>24241.0</td>\n",
       "      <td>2.023720</td>\n",
       "      <td>0.700037</td>\n",
       "      <td>1.00</td>\n",
       "      <td>2.00</td>\n",
       "      <td>2.00</td>\n",
       "      <td>2.50</td>\n",
       "      <td>4.00</td>\n",
       "    </tr>\n",
       "    <tr>\n",
       "      <th>sqtft</th>\n",
       "      <td>24241.0</td>\n",
       "      <td>1617.265501</td>\n",
       "      <td>543.071357</td>\n",
       "      <td>447.00</td>\n",
       "      <td>1217.00</td>\n",
       "      <td>1522.00</td>\n",
       "      <td>1926.00</td>\n",
       "      <td>3423.00</td>\n",
       "    </tr>\n",
       "    <tr>\n",
       "      <th>taxvalue</th>\n",
       "      <td>24241.0</td>\n",
       "      <td>322274.319376</td>\n",
       "      <td>196531.203511</td>\n",
       "      <td>11291.00</td>\n",
       "      <td>169586.00</td>\n",
       "      <td>291172.00</td>\n",
       "      <td>445000.00</td>\n",
       "      <td>948243.00</td>\n",
       "    </tr>\n",
       "    <tr>\n",
       "      <th>taxamount</th>\n",
       "      <td>24241.0</td>\n",
       "      <td>3996.753831</td>\n",
       "      <td>2206.987420</td>\n",
       "      <td>49.18</td>\n",
       "      <td>2332.66</td>\n",
       "      <td>3686.19</td>\n",
       "      <td>5378.42</td>\n",
       "      <td>10393.47</td>\n",
       "    </tr>\n",
       "    <tr>\n",
       "      <th>lots</th>\n",
       "      <td>24241.0</td>\n",
       "      <td>6658.314343</td>\n",
       "      <td>1811.354324</td>\n",
       "      <td>1890.00</td>\n",
       "      <td>5514.00</td>\n",
       "      <td>6499.00</td>\n",
       "      <td>7590.00</td>\n",
       "      <td>11822.00</td>\n",
       "    </tr>\n",
       "  </tbody>\n",
       "</table>\n",
       "</div>"
      ],
      "text/plain": [
       "             count           mean            std       min        25%  \\\n",
       "bedroom    24241.0       3.197228       0.779588      2.00       3.00   \n",
       "bathroom   24241.0       2.023720       0.700037      1.00       2.00   \n",
       "sqtft      24241.0    1617.265501     543.071357    447.00    1217.00   \n",
       "taxvalue   24241.0  322274.319376  196531.203511  11291.00  169586.00   \n",
       "taxamount  24241.0    3996.753831    2206.987420     49.18    2332.66   \n",
       "lots       24241.0    6658.314343    1811.354324   1890.00    5514.00   \n",
       "\n",
       "                 50%        75%        max  \n",
       "bedroom         3.00       4.00       5.00  \n",
       "bathroom        2.00       2.50       4.00  \n",
       "sqtft        1522.00    1926.00    3423.00  \n",
       "taxvalue   291172.00  445000.00  948243.00  \n",
       "taxamount    3686.19    5378.42   10393.47  \n",
       "lots         6499.00    7590.00   11822.00  "
      ]
     },
     "execution_count": 4,
     "metadata": {},
     "output_type": "execute_result"
    }
   ],
   "source": [
    "zillow_train.describe().T"
   ]
  },
  {
   "cell_type": "code",
   "execution_count": 5,
   "id": "9ce93b5b",
   "metadata": {},
   "outputs": [],
   "source": [
    "# the target will be taxamount"
   ]
  },
  {
   "cell_type": "code",
   "execution_count": 6,
   "id": "fbccb6da",
   "metadata": {},
   "outputs": [],
   "source": [
    "x_train, y_train = zillow_train.select_dtypes('float').drop(columns='taxamount'),zillow_train.taxamount\n",
    "x_validate, y_validate = zillow_validate.select_dtypes('float').drop(columns='taxamount'),zillow_validate.taxamount\n",
    "x_test, y_test = zillow_test.select_dtypes('float').drop(columns='taxamount'),zillow_test.taxamount"
   ]
  },
  {
   "cell_type": "code",
   "execution_count": null,
   "id": "4006349f",
   "metadata": {},
   "outputs": [],
   "source": []
  },
  {
   "cell_type": "code",
   "execution_count": 7,
   "id": "4fe0fffd",
   "metadata": {},
   "outputs": [],
   "source": [
    "scaler=MinMaxScaler()\n",
    "x_train_scaled = pd.DataFrame(scaler.fit_transform(x_train), index=x_train.index, columns=x_train.columns)\n",
    "x_validate_scaled = pd.DataFrame(scaler.fit_transform(x_validate), index=x_validate.index, columns=x_validate.columns)\n",
    "x_test_scaled = pd.DataFrame(scaler.fit_transform(x_test), index=x_test.index, columns=x_test.columns)"
   ]
  },
  {
   "cell_type": "code",
   "execution_count": 8,
   "id": "d0e9c23b",
   "metadata": {},
   "outputs": [
    {
     "name": "stdout",
     "output_type": "stream",
     "text": [
      "RMSE using Mean\n",
      "Train/In-Sample:  2206.94 \n",
      "Validate/Out-of-Sample:  2194.97\n",
      "RMSE using Median\n",
      "Train/In-Sample:  2228.69 \n",
      "Validate/Out-of-Sample:  2213.69\n"
     ]
    }
   ],
   "source": [
    "# We need y_train and y_validate to be dataframes to append the new columns with predicted values. \n",
    "y_train = pd.DataFrame(y_train)\n",
    "y_validate = pd.DataFrame(y_validate)\n",
    "\n",
    "# predict mean\n",
    "y_train['baseline'] = y_train['taxamount'].mean()\n",
    "y_validate['baseline'] = y_validate['taxamount'].mean()\n",
    "\n",
    "# predict median\n",
    "y_train['taxamount_med'] = y_train['taxamount'].median()\n",
    "y_validate['taxamount_med'] = y_validate['taxamount'].median()\n",
    "\n",
    "# RMSE of mean\n",
    "rmse_train = mean_squared_error(y_train.taxamount, y_train.baseline)**(1/2)\n",
    "rmse_validate = mean_squared_error(y_validate.taxamount, y_validate.baseline)**(1/2)\n",
    "\n",
    "print(\"RMSE using Mean\\nTrain/In-Sample: \", round(rmse_train, 2), \n",
    "      \"\\nValidate/Out-of-Sample: \", round(rmse_validate, 2))\n",
    "\n",
    "# RMSE of median\n",
    "rmse_train = mean_squared_error(y_train.taxamount, y_train.taxamount_med)**(1/2)\n",
    "rmse_validate = mean_squared_error(y_validate.taxamount, y_validate.taxamount_med)**(1/2)\n",
    "\n",
    "print(\"RMSE using Median\\nTrain/In-Sample: \", round(rmse_train, 2), \n",
    "      \"\\nValidate/Out-of-Sample: \", round(rmse_validate, 2))\n",
    "\n"
   ]
  },
  {
   "cell_type": "code",
   "execution_count": 9,
   "id": "561513e7",
   "metadata": {},
   "outputs": [
    {
     "data": {
      "text/html": [
       "<div>\n",
       "<style scoped>\n",
       "    .dataframe tbody tr th:only-of-type {\n",
       "        vertical-align: middle;\n",
       "    }\n",
       "\n",
       "    .dataframe tbody tr th {\n",
       "        vertical-align: top;\n",
       "    }\n",
       "\n",
       "    .dataframe thead th {\n",
       "        text-align: right;\n",
       "    }\n",
       "</style>\n",
       "<table border=\"1\" class=\"dataframe\">\n",
       "  <thead>\n",
       "    <tr style=\"text-align: right;\">\n",
       "      <th></th>\n",
       "      <th>model</th>\n",
       "      <th>rmse</th>\n",
       "      <th>r^2</th>\n",
       "    </tr>\n",
       "  </thead>\n",
       "  <tbody>\n",
       "    <tr>\n",
       "      <th>0</th>\n",
       "      <td>baseline</td>\n",
       "      <td>2206.941897</td>\n",
       "      <td>0.0</td>\n",
       "    </tr>\n",
       "  </tbody>\n",
       "</table>\n",
       "</div>"
      ],
      "text/plain": [
       "      model         rmse  r^2\n",
       "0  baseline  2206.941897  0.0"
      ]
     },
     "execution_count": 9,
     "metadata": {},
     "output_type": "execute_result"
    }
   ],
   "source": [
    "models = pd.DataFrame(\n",
    "[\n",
    "    {\n",
    "        'model': 'baseline',\n",
    "        'rmse': mean_squared_error(y_train['taxamount'], y_train.baseline)**(1/2),\n",
    "        'r^2': explained_variance_score(y_train['taxamount'], y_train.baseline)\n",
    "    \n",
    "    }\n",
    "])\n",
    "models"
   ]
  },
  {
   "cell_type": "code",
   "execution_count": 10,
   "id": "31862f32",
   "metadata": {},
   "outputs": [],
   "source": [
    "def modeling(model, \n",
    "                  x_train, \n",
    "                  y_train, \n",
    "                  x_validate, \n",
    "                  y_validate, \n",
    "                  scores=models):\n",
    "    model.fit(x_train, y_train.taxamount)\n",
    "    in_sample_pred = model.predict(x_train)\n",
    "    out_sample_pred = model.predict(x_validate)\n",
    "    model_name = input('model name?')\n",
    "    y_train[model_name] = in_sample_pred\n",
    "    y_validate[model_name] = out_sample_pred\n",
    "    print(y_validate.shape)\n",
    "    print(out_sample_pred.shape)\n",
    "    rmse_val = mean_squared_error(\n",
    "    y_validate.taxamount, out_sample_pred, squared=False)\n",
    "    r_squared_val = explained_variance_score(\n",
    "        y_validate.taxamount, out_sample_pred)\n",
    "    return models.append({\n",
    "        'model': model_name,\n",
    "        'rmse': rmse_val,\n",
    "        'r^2': r_squared_val\n",
    "    \n",
    "    }, ignore_index=True)"
   ]
  },
  {
   "cell_type": "code",
   "execution_count": 11,
   "id": "f11cdf3a",
   "metadata": {},
   "outputs": [
    {
     "name": "stdout",
     "output_type": "stream",
     "text": [
      "model name?OLS\n",
      "(10389, 4)\n",
      "(10389,)\n"
     ]
    }
   ],
   "source": [
    "models = modeling(LinearRegression(normalize=True), \n",
    "                  x_train_scaled, \n",
    "                  y_train, \n",
    "                  x_validate_scaled, \n",
    "                  y_validate, \n",
    "                  scores=models)"
   ]
  },
  {
   "cell_type": "code",
   "execution_count": 12,
   "id": "b2d18759",
   "metadata": {},
   "outputs": [
    {
     "name": "stdout",
     "output_type": "stream",
     "text": [
      "model name?LARS\n",
      "(10389, 5)\n",
      "(10389,)\n"
     ]
    }
   ],
   "source": [
    "models = modeling(LassoLars(alpha=1.0), \n",
    "                  x_train_scaled, \n",
    "                  y_train, \n",
    "                  x_validate_scaled, \n",
    "                  y_validate, \n",
    "                  scores=models)"
   ]
  },
  {
   "cell_type": "code",
   "execution_count": 13,
   "id": "b688ea12",
   "metadata": {},
   "outputs": [
    {
     "name": "stdout",
     "output_type": "stream",
     "text": [
      "model name?POLY\n",
      "(10389, 6)\n",
      "(10389,)\n"
     ]
    }
   ],
   "source": [
    "polyfeats = PolynomialFeatures(degree=2)\n",
    "x_train_quad = polyfeats.fit_transform(x_train_scaled)\n",
    "x_val_quad = polyfeats.transform(x_validate_scaled)\n",
    "models = modeling(LinearRegression(), \n",
    "                  x_train_quad, \n",
    "                  y_train, \n",
    "                  x_val_quad, \n",
    "                  y_validate, \n",
    "                  scores=models)"
   ]
  },
  {
   "cell_type": "code",
   "execution_count": 14,
   "id": "27965a8c",
   "metadata": {},
   "outputs": [
    {
     "name": "stdout",
     "output_type": "stream",
     "text": [
      "model name?TWE\n",
      "(10389, 7)\n",
      "(10389,)\n"
     ]
    }
   ],
   "source": [
    "models = modeling(TweedieRegressor(power=1, alpha=0), \n",
    "                  x_train_scaled, \n",
    "                  y_train, \n",
    "                  x_validate_scaled, \n",
    "                  y_validate, \n",
    "                  scores=models)"
   ]
  },
  {
   "cell_type": "code",
   "execution_count": 15,
   "id": "003db9b6",
   "metadata": {},
   "outputs": [
    {
     "data": {
      "text/html": [
       "<div>\n",
       "<style scoped>\n",
       "    .dataframe tbody tr th:only-of-type {\n",
       "        vertical-align: middle;\n",
       "    }\n",
       "\n",
       "    .dataframe tbody tr th {\n",
       "        vertical-align: top;\n",
       "    }\n",
       "\n",
       "    .dataframe thead th {\n",
       "        text-align: right;\n",
       "    }\n",
       "</style>\n",
       "<table border=\"1\" class=\"dataframe\">\n",
       "  <thead>\n",
       "    <tr style=\"text-align: right;\">\n",
       "      <th></th>\n",
       "      <th>model</th>\n",
       "      <th>rmse</th>\n",
       "      <th>r^2</th>\n",
       "    </tr>\n",
       "  </thead>\n",
       "  <tbody>\n",
       "    <tr>\n",
       "      <th>0</th>\n",
       "      <td>baseline</td>\n",
       "      <td>2206.941897</td>\n",
       "      <td>0.000000</td>\n",
       "    </tr>\n",
       "    <tr>\n",
       "      <th>1</th>\n",
       "      <td>OLS</td>\n",
       "      <td>520.202532</td>\n",
       "      <td>0.943849</td>\n",
       "    </tr>\n",
       "    <tr>\n",
       "      <th>2</th>\n",
       "      <td>LARS</td>\n",
       "      <td>545.997355</td>\n",
       "      <td>0.938138</td>\n",
       "    </tr>\n",
       "    <tr>\n",
       "      <th>3</th>\n",
       "      <td>POLY</td>\n",
       "      <td>515.659425</td>\n",
       "      <td>0.944826</td>\n",
       "    </tr>\n",
       "    <tr>\n",
       "      <th>4</th>\n",
       "      <td>TWE</td>\n",
       "      <td>864.479268</td>\n",
       "      <td>0.844886</td>\n",
       "    </tr>\n",
       "  </tbody>\n",
       "</table>\n",
       "</div>"
      ],
      "text/plain": [
       "      model         rmse       r^2\n",
       "0  baseline  2206.941897  0.000000\n",
       "1       OLS   520.202532  0.943849\n",
       "2      LARS   545.997355  0.938138\n",
       "3      POLY   515.659425  0.944826\n",
       "4       TWE   864.479268  0.844886"
      ]
     },
     "execution_count": 15,
     "metadata": {},
     "output_type": "execute_result"
    }
   ],
   "source": [
    "models"
   ]
  },
  {
   "cell_type": "code",
   "execution_count": 16,
   "id": "d6a698e9",
   "metadata": {},
   "outputs": [],
   "source": [
    "kbest = SelectKBest(f_regression, k=3)\n",
    "kbest.fit(x_train_scaled, y_train.taxamount)\n",
    "mask = x_train_scaled.columns[kbest.get_support()].to_list()"
   ]
  },
  {
   "cell_type": "code",
   "execution_count": 17,
   "id": "79911c77",
   "metadata": {},
   "outputs": [
    {
     "name": "stdout",
     "output_type": "stream",
     "text": [
      "model name?KBEST\n",
      "(10389, 8)\n",
      "(10389,)\n"
     ]
    }
   ],
   "source": [
    "models = modeling(LinearRegression(), \n",
    "                  x_train_scaled[mask], \n",
    "                  y_train, \n",
    "                  x_validate_scaled[mask], \n",
    "                  y_validate, \n",
    "                  scores=models)"
   ]
  },
  {
   "cell_type": "code",
   "execution_count": 18,
   "id": "c151d03b",
   "metadata": {},
   "outputs": [
    {
     "data": {
      "text/html": [
       "<div>\n",
       "<style scoped>\n",
       "    .dataframe tbody tr th:only-of-type {\n",
       "        vertical-align: middle;\n",
       "    }\n",
       "\n",
       "    .dataframe tbody tr th {\n",
       "        vertical-align: top;\n",
       "    }\n",
       "\n",
       "    .dataframe thead th {\n",
       "        text-align: right;\n",
       "    }\n",
       "</style>\n",
       "<table border=\"1\" class=\"dataframe\">\n",
       "  <thead>\n",
       "    <tr style=\"text-align: right;\">\n",
       "      <th></th>\n",
       "      <th>model</th>\n",
       "      <th>rmse</th>\n",
       "      <th>r^2</th>\n",
       "    </tr>\n",
       "  </thead>\n",
       "  <tbody>\n",
       "    <tr>\n",
       "      <th>0</th>\n",
       "      <td>baseline</td>\n",
       "      <td>2206.941897</td>\n",
       "      <td>0.000000</td>\n",
       "    </tr>\n",
       "    <tr>\n",
       "      <th>1</th>\n",
       "      <td>OLS</td>\n",
       "      <td>520.202532</td>\n",
       "      <td>0.943849</td>\n",
       "    </tr>\n",
       "    <tr>\n",
       "      <th>2</th>\n",
       "      <td>LARS</td>\n",
       "      <td>545.997355</td>\n",
       "      <td>0.938138</td>\n",
       "    </tr>\n",
       "    <tr>\n",
       "      <th>3</th>\n",
       "      <td>POLY</td>\n",
       "      <td>515.659425</td>\n",
       "      <td>0.944826</td>\n",
       "    </tr>\n",
       "    <tr>\n",
       "      <th>4</th>\n",
       "      <td>TWE</td>\n",
       "      <td>864.479268</td>\n",
       "      <td>0.844886</td>\n",
       "    </tr>\n",
       "    <tr>\n",
       "      <th>5</th>\n",
       "      <td>KBEST</td>\n",
       "      <td>520.622872</td>\n",
       "      <td>0.943758</td>\n",
       "    </tr>\n",
       "  </tbody>\n",
       "</table>\n",
       "</div>"
      ],
      "text/plain": [
       "      model         rmse       r^2\n",
       "0  baseline  2206.941897  0.000000\n",
       "1       OLS   520.202532  0.943849\n",
       "2      LARS   545.997355  0.938138\n",
       "3      POLY   515.659425  0.944826\n",
       "4       TWE   864.479268  0.844886\n",
       "5     KBEST   520.622872  0.943758"
      ]
     },
     "execution_count": 18,
     "metadata": {},
     "output_type": "execute_result"
    }
   ],
   "source": [
    "models"
   ]
  },
  {
   "cell_type": "code",
   "execution_count": 19,
   "id": "92471843",
   "metadata": {},
   "outputs": [
    {
     "data": {
      "text/plain": [
       "515.6594248317249"
      ]
     },
     "execution_count": 19,
     "metadata": {},
     "output_type": "execute_result"
    }
   ],
   "source": [
    "models.rmse.min()"
   ]
  },
  {
   "cell_type": "code",
   "execution_count": 20,
   "id": "5a915e1e",
   "metadata": {},
   "outputs": [
    {
     "data": {
      "text/plain": [
       "0.9448261488772965"
      ]
     },
     "execution_count": 20,
     "metadata": {},
     "output_type": "execute_result"
    }
   ],
   "source": [
    "models['r^2'].max()"
   ]
  },
  {
   "cell_type": "code",
   "execution_count": 21,
   "id": "d96eca68",
   "metadata": {},
   "outputs": [],
   "source": [
    "polyfeats = PolynomialFeatures(degree=2)\n",
    "x_test_quad = polyfeats.fit_transform(x_test_scaled)"
   ]
  },
  {
   "cell_type": "code",
   "execution_count": 22,
   "id": "0d87662e",
   "metadata": {},
   "outputs": [],
   "source": [
    "def modeling(model, \n",
    "                  x_test, \n",
    "                  y_test, \n",
    "                  scores=models):\n",
    "    model.fit(x_test, y_test)\n",
    "    in_sample_pred = model.predict(x_test)\n",
    "    model_name = input('model_name?')\n",
    "    y_test[model_name] = in_sample_pred\n",
    "    rmse_val = mean_squared_error(\n",
    "    y_test, in_sample_pred, squared=False)**(1/2)\n",
    "    r_squared_val = explained_variance_score(\n",
    "        y_test, in_sample_pred)\n",
    "    return models.append({\n",
    "        'model': model_name,\n",
    "        'rmse': rmse_val,\n",
    "        'r^2': r_squared_val\n",
    "    \n",
    "    }, ignore_index=True)"
   ]
  },
  {
   "cell_type": "code",
   "execution_count": 23,
   "id": "e01da2d5",
   "metadata": {},
   "outputs": [
    {
     "data": {
      "text/html": [
       "<div>\n",
       "<style scoped>\n",
       "    .dataframe tbody tr th:only-of-type {\n",
       "        vertical-align: middle;\n",
       "    }\n",
       "\n",
       "    .dataframe tbody tr th {\n",
       "        vertical-align: top;\n",
       "    }\n",
       "\n",
       "    .dataframe thead th {\n",
       "        text-align: right;\n",
       "    }\n",
       "</style>\n",
       "<table border=\"1\" class=\"dataframe\">\n",
       "  <thead>\n",
       "    <tr style=\"text-align: right;\">\n",
       "      <th></th>\n",
       "      <th>bedroom</th>\n",
       "      <th>bathroom</th>\n",
       "      <th>sqtft</th>\n",
       "      <th>taxvalue</th>\n",
       "      <th>lots</th>\n",
       "    </tr>\n",
       "  </thead>\n",
       "  <tbody>\n",
       "    <tr>\n",
       "      <th>35943</th>\n",
       "      <td>0.000000</td>\n",
       "      <td>0.000000</td>\n",
       "      <td>0.117587</td>\n",
       "      <td>0.238733</td>\n",
       "      <td>0.454426</td>\n",
       "    </tr>\n",
       "    <tr>\n",
       "      <th>41461</th>\n",
       "      <td>0.333333</td>\n",
       "      <td>0.333333</td>\n",
       "      <td>0.352417</td>\n",
       "      <td>0.481175</td>\n",
       "      <td>0.451909</td>\n",
       "    </tr>\n",
       "    <tr>\n",
       "      <th>5930</th>\n",
       "      <td>0.333333</td>\n",
       "      <td>0.000000</td>\n",
       "      <td>0.171066</td>\n",
       "      <td>0.506908</td>\n",
       "      <td>0.423003</td>\n",
       "    </tr>\n",
       "    <tr>\n",
       "      <th>31798</th>\n",
       "      <td>0.666667</td>\n",
       "      <td>0.500000</td>\n",
       "      <td>0.548852</td>\n",
       "      <td>0.201042</td>\n",
       "      <td>0.414644</td>\n",
       "    </tr>\n",
       "    <tr>\n",
       "      <th>426</th>\n",
       "      <td>0.333333</td>\n",
       "      <td>0.333333</td>\n",
       "      <td>0.282139</td>\n",
       "      <td>0.414779</td>\n",
       "      <td>0.425622</td>\n",
       "    </tr>\n",
       "    <tr>\n",
       "      <th>...</th>\n",
       "      <td>...</td>\n",
       "      <td>...</td>\n",
       "      <td>...</td>\n",
       "      <td>...</td>\n",
       "      <td>...</td>\n",
       "    </tr>\n",
       "    <tr>\n",
       "      <th>37717</th>\n",
       "      <td>0.333333</td>\n",
       "      <td>0.333333</td>\n",
       "      <td>0.285910</td>\n",
       "      <td>0.259607</td>\n",
       "      <td>0.347668</td>\n",
       "    </tr>\n",
       "    <tr>\n",
       "      <th>10943</th>\n",
       "      <td>0.333333</td>\n",
       "      <td>0.500000</td>\n",
       "      <td>0.640384</td>\n",
       "      <td>0.676088</td>\n",
       "      <td>0.201833</td>\n",
       "    </tr>\n",
       "    <tr>\n",
       "      <th>25220</th>\n",
       "      <td>1.000000</td>\n",
       "      <td>1.000000</td>\n",
       "      <td>0.521083</td>\n",
       "      <td>0.373113</td>\n",
       "      <td>0.342028</td>\n",
       "    </tr>\n",
       "    <tr>\n",
       "      <th>11686</th>\n",
       "      <td>0.333333</td>\n",
       "      <td>0.333333</td>\n",
       "      <td>0.567707</td>\n",
       "      <td>0.150565</td>\n",
       "      <td>0.604492</td>\n",
       "    </tr>\n",
       "    <tr>\n",
       "      <th>56009</th>\n",
       "      <td>0.333333</td>\n",
       "      <td>0.333333</td>\n",
       "      <td>0.387727</td>\n",
       "      <td>0.188750</td>\n",
       "      <td>0.520798</td>\n",
       "    </tr>\n",
       "  </tbody>\n",
       "</table>\n",
       "<p>8658 rows × 5 columns</p>\n",
       "</div>"
      ],
      "text/plain": [
       "        bedroom  bathroom     sqtft  taxvalue      lots\n",
       "35943  0.000000  0.000000  0.117587  0.238733  0.454426\n",
       "41461  0.333333  0.333333  0.352417  0.481175  0.451909\n",
       "5930   0.333333  0.000000  0.171066  0.506908  0.423003\n",
       "31798  0.666667  0.500000  0.548852  0.201042  0.414644\n",
       "426    0.333333  0.333333  0.282139  0.414779  0.425622\n",
       "...         ...       ...       ...       ...       ...\n",
       "37717  0.333333  0.333333  0.285910  0.259607  0.347668\n",
       "10943  0.333333  0.500000  0.640384  0.676088  0.201833\n",
       "25220  1.000000  1.000000  0.521083  0.373113  0.342028\n",
       "11686  0.333333  0.333333  0.567707  0.150565  0.604492\n",
       "56009  0.333333  0.333333  0.387727  0.188750  0.520798\n",
       "\n",
       "[8658 rows x 5 columns]"
      ]
     },
     "execution_count": 23,
     "metadata": {},
     "output_type": "execute_result"
    }
   ],
   "source": [
    "x_test_scaled=x_test_scaled.dropna()\n",
    "x_test_scaled"
   ]
  },
  {
   "cell_type": "code",
   "execution_count": 24,
   "id": "cb87921a",
   "metadata": {},
   "outputs": [
    {
     "data": {
      "text/plain": [
       "35943    3252.11\n",
       "41461    5427.46\n",
       "5930     5750.34\n",
       "31798    2665.18\n",
       "426      4898.35\n",
       "          ...   \n",
       "37717    3336.47\n",
       "10943    9988.22\n",
       "25220    4502.59\n",
       "11686    1516.98\n",
       "56009    2376.47\n",
       "Name: taxamount, Length: 8658, dtype: float64"
      ]
     },
     "execution_count": 24,
     "metadata": {},
     "output_type": "execute_result"
    }
   ],
   "source": [
    "y_test"
   ]
  },
  {
   "cell_type": "code",
   "execution_count": 28,
   "id": "9a153c31",
   "metadata": {},
   "outputs": [],
   "source": [
    "polyfeats = PolynomialFeatures(degree=2)\n",
    "model=LinearRegression()\n",
    "model.fit(x_test, y_test)\n",
    "x_test = polyfeats.fit_transform(x_test_scaled)"
   ]
  },
  {
   "cell_type": "code",
   "execution_count": 29,
   "id": "488fd597",
   "metadata": {},
   "outputs": [],
   "source": [
    "rmse_val = mean_squared_error(\n",
    "    y_test, model.predict(x_test), squared=False)\n",
    "r_squared_val = explained_variance_score(\n",
    "        y_test, model.predict(x_test))"
   ]
  },
  {
   "cell_type": "code",
   "execution_count": 30,
   "id": "24899fd2",
   "metadata": {},
   "outputs": [
    {
     "data": {
      "text/plain": [
       "(498.86122454941614, 0.9473226885867507)"
      ]
     },
     "execution_count": 30,
     "metadata": {},
     "output_type": "execute_result"
    }
   ],
   "source": [
    "rmse_val,r_squared_val"
   ]
  },
  {
   "cell_type": "code",
   "execution_count": null,
   "id": "b319a87a",
   "metadata": {},
   "outputs": [],
   "source": []
  }
 ],
 "metadata": {
  "kernelspec": {
   "display_name": "Python 3 (ipykernel)",
   "language": "python",
   "name": "python3"
  },
  "language_info": {
   "codemirror_mode": {
    "name": "ipython",
    "version": 3
   },
   "file_extension": ".py",
   "mimetype": "text/x-python",
   "name": "python",
   "nbconvert_exporter": "python",
   "pygments_lexer": "ipython3",
   "version": "3.9.12"
  }
 },
 "nbformat": 4,
 "nbformat_minor": 5
}
