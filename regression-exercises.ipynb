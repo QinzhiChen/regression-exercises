{
 "cells": [
  {
   "cell_type": "code",
   "execution_count": 2,
   "id": "5ffa8dc1",
   "metadata": {},
   "outputs": [],
   "source": [
    "import warnings\n",
    "warnings.filterwarnings(\"ignore\")\n",
    "import pandas as pd\n",
    "import matplotlib.pyplot as plt\n",
    "import seaborn as sns\n",
    "import numpy as np\n",
    "import env\n",
    "import wrangle_zillow\n",
    "import os"
   ]
  },
  {
   "cell_type": "code",
   "execution_count": null,
   "id": "1e127c2d",
   "metadata": {},
   "outputs": [],
   "source": [
    "zillow2017_df=wrangle_zillow.wrangle_zillow()"
   ]
  },
  {
   "cell_type": "code",
   "execution_count": null,
   "id": "52309374",
   "metadata": {},
   "outputs": [],
   "source": [
    "zillow2017_df.isnull().sum()"
   ]
  },
  {
   "cell_type": "code",
   "execution_count": null,
   "id": "93703ed7",
   "metadata": {},
   "outputs": [],
   "source": [
    "zillow2017_df.describe.T()"
   ]
  },
  {
   "cell_type": "markdown",
   "id": "b8ed006f",
   "metadata": {},
   "source": [
    "# Key takeaway\n"
   ]
  }
 ],
 "metadata": {
  "kernelspec": {
   "display_name": "Python 3 (ipykernel)",
   "language": "python",
   "name": "python3"
  },
  "language_info": {
   "codemirror_mode": {
    "name": "ipython",
    "version": 3
   },
   "file_extension": ".py",
   "mimetype": "text/x-python",
   "name": "python",
   "nbconvert_exporter": "python",
   "pygments_lexer": "ipython3",
   "version": "3.9.12"
  }
 },
 "nbformat": 4,
 "nbformat_minor": 5
}
